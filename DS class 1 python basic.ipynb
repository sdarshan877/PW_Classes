{
 "cells": [
  {
   "cell_type": "code",
   "execution_count": 2,
   "id": "6b6d9354-febb-44ca-aa7b-e4c1e02c6778",
   "metadata": {},
   "outputs": [],
   "source": [
    "#-----------------Type of variable-----------\n",
    "\n",
    "#1. intiger \n",
    "a, b = 10,5"
   ]
  },
  {
   "cell_type": "code",
   "execution_count": 3,
   "id": "247853f0-3095-4b75-accc-65da5befdd5f",
   "metadata": {},
   "outputs": [
    {
     "data": {
      "text/plain": [
       "15"
      ]
     },
     "execution_count": 3,
     "metadata": {},
     "output_type": "execute_result"
    }
   ],
   "source": [
    "a+b"
   ]
  },
  {
   "cell_type": "code",
   "execution_count": 6,
   "id": "c7c70647-0629-4868-b227-41f0a0d6afd9",
   "metadata": {},
   "outputs": [],
   "source": [
    "#2.flot\n",
    "\n",
    "c= 5.263"
   ]
  },
  {
   "cell_type": "code",
   "execution_count": 5,
   "id": "ab68c762-c210-4330-b292-bade3a4ceb83",
   "metadata": {},
   "outputs": [
    {
     "data": {
      "text/plain": [
       "15.263"
      ]
     },
     "execution_count": 5,
     "metadata": {},
     "output_type": "execute_result"
    }
   ],
   "source": [
    "a+c"
   ]
  },
  {
   "cell_type": "code",
   "execution_count": 7,
   "id": "155685d4-bddd-4085-a2ab-d0250ff10db4",
   "metadata": {},
   "outputs": [],
   "source": [
    "#3. string \n",
    "\n",
    "s = \"my name is darshan\""
   ]
  },
  {
   "cell_type": "code",
   "execution_count": 8,
   "id": "045e3285-979a-4c00-8e7f-044bfac9a536",
   "metadata": {},
   "outputs": [
    {
     "data": {
      "text/plain": [
       "'my name is darshan'"
      ]
     },
     "execution_count": 8,
     "metadata": {},
     "output_type": "execute_result"
    }
   ],
   "source": [
    "s"
   ]
  },
  {
   "cell_type": "code",
   "execution_count": 9,
   "id": "31ae33f3-cb59-456a-b4d6-9ede80d9e09a",
   "metadata": {},
   "outputs": [],
   "source": [
    "#4. boolian\n",
    "\n",
    "e = True"
   ]
  },
  {
   "cell_type": "code",
   "execution_count": 10,
   "id": "7e59d1ef-3d65-499f-80af-6c183074146a",
   "metadata": {},
   "outputs": [
    {
     "data": {
      "text/plain": [
       "bool"
      ]
     },
     "execution_count": 10,
     "metadata": {},
     "output_type": "execute_result"
    }
   ],
   "source": [
    "type(e)"
   ]
  },
  {
   "cell_type": "code",
   "execution_count": 13,
   "id": "71244576-ceb1-4c35-9c23-0cd0024341c6",
   "metadata": {},
   "outputs": [],
   "source": [
    "#5. complex\n",
    "\n",
    "f = 5+ 2j"
   ]
  },
  {
   "cell_type": "code",
   "execution_count": 14,
   "id": "66ca8679-f9b6-4c05-831a-37ff15cc8db3",
   "metadata": {},
   "outputs": [
    {
     "data": {
      "text/plain": [
       "complex"
      ]
     },
     "execution_count": 14,
     "metadata": {},
     "output_type": "execute_result"
    }
   ],
   "source": [
    "type(f)"
   ]
  },
  {
   "cell_type": "code",
   "execution_count": 15,
   "id": "6c332eda-e477-450d-aeba-f80efe956807",
   "metadata": {},
   "outputs": [],
   "source": [
    "# we need to use ''' for multy line comment "
   ]
  },
  {
   "cell_type": "code",
   "execution_count": 17,
   "id": "5e80aec6-098a-4402-9876-509689ad7ac5",
   "metadata": {},
   "outputs": [
    {
     "data": {
      "text/plain": [
       "' may name is darshan\\nthis is my first class\\ni am here to learn data science '"
      ]
     },
     "execution_count": 17,
     "metadata": {},
     "output_type": "execute_result"
    }
   ],
   "source": [
    "''' may name is darshan\n",
    "this is my first class\n",
    "i am here to learn data science '''"
   ]
  },
  {
   "cell_type": "code",
   "execution_count": 18,
   "id": "88521d96-8c98-4c05-b4ee-cf35afae6b45",
   "metadata": {},
   "outputs": [],
   "source": [
    "# -----------------operation in python ----------------"
   ]
  },
  {
   "cell_type": "code",
   "execution_count": 19,
   "id": "5591c3cd-d6f7-4827-8703-e56ed4505017",
   "metadata": {},
   "outputs": [
    {
     "data": {
      "text/plain": [
       "'Importatnt Note:-  it can be use as a additonal operater or Concadinate Function for Text'"
      ]
     },
     "execution_count": 19,
     "metadata": {},
     "output_type": "execute_result"
    }
   ],
   "source": [
    "#1. addition (+)\n",
    "\n",
    "'Importatnt Note:- '  ' it can be use as a additonal operater or Concadinate Function for Text'"
   ]
  },
  {
   "cell_type": "code",
   "execution_count": 20,
   "id": "fa07a68e-aba4-4b8b-a9f1-4dc5b75af92a",
   "metadata": {},
   "outputs": [],
   "source": [
    "m , z = 'darshan', 'singh'"
   ]
  },
  {
   "cell_type": "code",
   "execution_count": 21,
   "id": "b7c4d2c7-c99a-43ea-9a2c-86c1d4c3cb24",
   "metadata": {},
   "outputs": [
    {
     "data": {
      "text/plain": [
       "'darshansingh'"
      ]
     },
     "execution_count": 21,
     "metadata": {},
     "output_type": "execute_result"
    }
   ],
   "source": [
    "m+z"
   ]
  },
  {
   "cell_type": "code",
   "execution_count": 22,
   "id": "4e933edb-d8e5-4c0a-a5f7-6f54a2e9502a",
   "metadata": {},
   "outputs": [
    {
     "data": {
      "text/plain": [
       "'darshan singh'"
      ]
     },
     "execution_count": 22,
     "metadata": {},
     "output_type": "execute_result"
    }
   ],
   "source": [
    "m+' ' + z"
   ]
  },
  {
   "cell_type": "code",
   "execution_count": 23,
   "id": "d4971526-aba9-4e58-b70d-b8257bd2a6ee",
   "metadata": {},
   "outputs": [],
   "source": [
    "#2 subtraction, multiplication, and division work like same way as in other places "
   ]
  },
  {
   "cell_type": "code",
   "execution_count": 25,
   "id": "80fdd69e-50f6-44e2-8f96-03da34f8d6ee",
   "metadata": {},
   "outputs": [
    {
     "data": {
      "text/plain": [
       "'any change in the data type callled type casting '"
      ]
     },
     "execution_count": 25,
     "metadata": {},
     "output_type": "execute_result"
    }
   ],
   "source": [
    "# ----------------------------Type casting----------------------------------\n",
    "'any change in the data type callled type casting '"
   ]
  },
  {
   "cell_type": "code",
   "execution_count": 26,
   "id": "0af94845-63e7-48cd-b765-a1a9c63d1946",
   "metadata": {},
   "outputs": [
    {
     "ename": "TypeError",
     "evalue": "can only concatenate str (not \"int\") to str",
     "output_type": "error",
     "traceback": [
      "\u001b[0;31m---------------------------------------------------------------------------\u001b[0m",
      "\u001b[0;31mTypeError\u001b[0m                                 Traceback (most recent call last)",
      "Cell \u001b[0;32mIn[26], line 1\u001b[0m\n\u001b[0;32m----> 1\u001b[0m \u001b[43mm\u001b[49m\u001b[38;5;241;43m+\u001b[39;49m\u001b[43ma\u001b[49m\n",
      "\u001b[0;31mTypeError\u001b[0m: can only concatenate str (not \"int\") to str"
     ]
    }
   ],
   "source": [
    "m+a"
   ]
  },
  {
   "cell_type": "code",
   "execution_count": 27,
   "id": "83f265b4-ed9a-4681-a474-50a857179e4e",
   "metadata": {},
   "outputs": [
    {
     "data": {
      "text/plain": [
       "'darshan10'"
      ]
     },
     "execution_count": 27,
     "metadata": {},
     "output_type": "execute_result"
    }
   ],
   "source": [
    "m + str(a)"
   ]
  },
  {
   "cell_type": "code",
   "execution_count": 28,
   "id": "092bc9bd-f864-493e-9516-f02176a9da17",
   "metadata": {},
   "outputs": [
    {
     "data": {
      "text/plain": [
       "'10'"
      ]
     },
     "execution_count": 28,
     "metadata": {},
     "output_type": "execute_result"
    }
   ],
   "source": [
    "str(a)"
   ]
  },
  {
   "cell_type": "code",
   "execution_count": 37,
   "id": "83c563c7-bab0-4199-a0e1-bb29b22a5f32",
   "metadata": {},
   "outputs": [
    {
     "data": {
      "text/plain": [
       "' we can convert string into numeric only when we have numeric value as a string'"
      ]
     },
     "execution_count": 37,
     "metadata": {},
     "output_type": "execute_result"
    }
   ],
   "source": [
    "int(a) \n",
    "\n",
    "' we can convert string into numeric only when we have numeric value as a string'"
   ]
  },
  {
   "cell_type": "code",
   "execution_count": 42,
   "id": "91c87685-e11a-42eb-aa26-8196473318d7",
   "metadata": {},
   "outputs": [
    {
     "data": {
      "text/plain": [
       "'by default it will store data as a string but we can do type casting at the initial stage'"
      ]
     },
     "execution_count": 42,
     "metadata": {},
     "output_type": "execute_result"
    }
   ],
   "source": [
    "#-------------Input function---------------\n",
    "\n",
    "'by default it will store data as a string but we can do type casting at the initial stage'"
   ]
  },
  {
   "cell_type": "code",
   "execution_count": 45,
   "id": "2eefa0e8-bc70-4746-a901-41fbb1212e5c",
   "metadata": {},
   "outputs": [
    {
     "name": "stdin",
     "output_type": "stream",
     "text": [
      " 400\n"
     ]
    }
   ],
   "source": [
    "z= int(input())\n"
   ]
  },
  {
   "cell_type": "code",
   "execution_count": 46,
   "id": "2135579f-3a3b-4518-b715-e0e3440ede1b",
   "metadata": {},
   "outputs": [
    {
     "data": {
      "text/plain": [
       "400"
      ]
     },
     "execution_count": 46,
     "metadata": {},
     "output_type": "execute_result"
    }
   ],
   "source": [
    "z"
   ]
  },
  {
   "cell_type": "code",
   "execution_count": 48,
   "id": "fea5965b-6f84-4a92-9377-20711866d0a3",
   "metadata": {},
   "outputs": [
    {
     "name": "stdin",
     "output_type": "stream",
     "text": [
      " darshan\n"
     ]
    }
   ],
   "source": [
    "m = str(input())"
   ]
  },
  {
   "cell_type": "code",
   "execution_count": 49,
   "id": "14690076-8375-4e21-98fc-81e708babc98",
   "metadata": {},
   "outputs": [
    {
     "data": {
      "text/plain": [
       "'darshan'"
      ]
     },
     "execution_count": 49,
     "metadata": {},
     "output_type": "execute_result"
    }
   ],
   "source": [
    "m"
   ]
  },
  {
   "cell_type": "code",
   "execution_count": 60,
   "id": "3a8ff61c-af27-4bcd-b4a5-738dc7f52aa6",
   "metadata": {},
   "outputs": [
    {
     "name": "stdin",
     "output_type": "stream",
     "text": [
      " \n"
     ]
    }
   ],
   "source": [
    "b= bool(input())"
   ]
  },
  {
   "cell_type": "code",
   "execution_count": 56,
   "id": "c8930df4-0ff9-439d-b0ee-471b2cb028f4",
   "metadata": {},
   "outputs": [
    {
     "data": {
      "text/plain": [
       "'The bool function converts value to the corresponding boolean value.\\nFloat values are false if they are equal to 0, true otherwise. \\nStrings are false if equal to \"f\", \"false\", \"0\", 0.0\" etc, true otherwise.'"
      ]
     },
     "execution_count": 56,
     "metadata": {},
     "output_type": "execute_result"
    }
   ],
   "source": [
    "'''The bool function converts value to the corresponding boolean value.\n",
    "Float values are false if they are equal to 0, true otherwise. \n",
    "Strings are false if equal to \"f\", \"false\", \"0\", 0.0\" etc, true otherwise.'''"
   ]
  },
  {
   "cell_type": "code",
   "execution_count": 61,
   "id": "feaac3ac-6e73-4275-97f2-79d49097fb17",
   "metadata": {},
   "outputs": [
    {
     "data": {
      "text/plain": [
       "bool"
      ]
     },
     "execution_count": 61,
     "metadata": {},
     "output_type": "execute_result"
    }
   ],
   "source": [
    "type(b)"
   ]
  },
  {
   "cell_type": "code",
   "execution_count": 62,
   "id": "897d0db7-bd88-4b44-bdba-a04f17662c6b",
   "metadata": {},
   "outputs": [
    {
     "data": {
      "text/plain": [
       "False"
      ]
     },
     "execution_count": 62,
     "metadata": {},
     "output_type": "execute_result"
    }
   ],
   "source": [
    "b"
   ]
  },
  {
   "cell_type": "code",
   "execution_count": 63,
   "id": "467c2fe9-5b5a-4741-a971-020686808a0d",
   "metadata": {},
   "outputs": [],
   "source": [
    "#-------------Indexing---------------------"
   ]
  },
  {
   "cell_type": "code",
   "execution_count": 88,
   "id": "b29543c1-6b15-4eb3-b6fc-7a7e99ae8dec",
   "metadata": {},
   "outputs": [
    {
     "data": {
      "text/plain": [
       "'Note:- blank will be consider as well and follow only one type at a time'"
      ]
     },
     "execution_count": 88,
     "metadata": {},
     "output_type": "execute_result"
    }
   ],
   "source": [
    "'Forward indexing:-  start from 0 to n '\n",
    "\n",
    "'Backward indexing:-  start from -1 to -n'\n",
    "\n",
    "'Note:- blank will be consider as well and follow only one type at a time'"
   ]
  },
  {
   "cell_type": "code",
   "execution_count": 64,
   "id": "019bd50c-9469-4710-bee6-7559e47c4c3f",
   "metadata": {},
   "outputs": [],
   "source": [
    "s = \"my name is darshan\""
   ]
  },
  {
   "cell_type": "code",
   "execution_count": 65,
   "id": "abf7e756-27eb-4523-9908-f7c4522acd36",
   "metadata": {},
   "outputs": [
    {
     "data": {
      "text/plain": [
       "'my name is darshan'"
      ]
     },
     "execution_count": 65,
     "metadata": {},
     "output_type": "execute_result"
    }
   ],
   "source": [
    "s"
   ]
  },
  {
   "cell_type": "code",
   "execution_count": 67,
   "id": "1124c473-5049-4a7c-ab83-da9b1a766bbb",
   "metadata": {},
   "outputs": [
    {
     "data": {
      "text/plain": [
       "'n'"
      ]
     },
     "execution_count": 67,
     "metadata": {},
     "output_type": "execute_result"
    }
   ],
   "source": [
    "s[-1]"
   ]
  },
  {
   "cell_type": "code",
   "execution_count": 68,
   "id": "f562aad3-226c-43a0-92c3-6012c37bb3f4",
   "metadata": {},
   "outputs": [
    {
     "data": {
      "text/plain": [
       "'m'"
      ]
     },
     "execution_count": 68,
     "metadata": {},
     "output_type": "execute_result"
    }
   ],
   "source": [
    "s[0]"
   ]
  },
  {
   "cell_type": "code",
   "execution_count": 71,
   "id": "90ec6700-abc3-4af7-9222-3b12ee85f931",
   "metadata": {},
   "outputs": [],
   "source": [
    "#--------Slicing-----------------"
   ]
  },
  {
   "cell_type": "code",
   "execution_count": 72,
   "id": "171f8078-081b-425a-bd25-b1c98c1f39e3",
   "metadata": {},
   "outputs": [
    {
     "data": {
      "text/plain": [
       "'my name is darshan'"
      ]
     },
     "execution_count": 72,
     "metadata": {},
     "output_type": "execute_result"
    }
   ],
   "source": [
    "s"
   ]
  },
  {
   "cell_type": "code",
   "execution_count": 80,
   "id": "ef843a5d-c414-41c5-8150-3dbc210e793d",
   "metadata": {},
   "outputs": [
    {
     "data": {
      "text/plain": [
       "'darshan'"
      ]
     },
     "execution_count": 80,
     "metadata": {},
     "output_type": "execute_result"
    }
   ],
   "source": [
    "'I want to extract darshan'\n",
    "\n",
    "s[11:19] "
   ]
  },
  {
   "cell_type": "code",
   "execution_count": 83,
   "id": "e036b804-1138-4fe5-8444-2bf95ebd1da5",
   "metadata": {},
   "outputs": [
    {
     "data": {
      "text/plain": [
       "' slicing:-   [start point    :   End point-1   : Jump/step (bydefault it is 1)  ]     '"
      ]
     },
     "execution_count": 83,
     "metadata": {},
     "output_type": "execute_result"
    }
   ],
   "source": [
    "' slicing:-   [start point    :   End point-1   : Jump/step (bydefault it is 1)  ]     '"
   ]
  },
  {
   "cell_type": "code",
   "execution_count": 85,
   "id": "38fcaf0b-8a7c-47c4-907e-b535691f56bf",
   "metadata": {},
   "outputs": [
    {
     "data": {
      "text/plain": [
       "'nahsrad'"
      ]
     },
     "execution_count": 85,
     "metadata": {},
     "output_type": "execute_result"
    }
   ],
   "source": [
    "s[-1:-8:-1]"
   ]
  },
  {
   "cell_type": "code",
   "execution_count": 86,
   "id": "712a9241-e4ad-4d7d-8a3e-55fb84f2f877",
   "metadata": {},
   "outputs": [
    {
     "data": {
      "text/plain": [
       "'nahsrad si eman ym'"
      ]
     },
     "execution_count": 86,
     "metadata": {},
     "output_type": "execute_result"
    }
   ],
   "source": [
    "# -----revrecing------------\n",
    "\n",
    "s[::-1]"
   ]
  },
  {
   "cell_type": "code",
   "execution_count": 89,
   "id": "579dc483-e3c8-47f2-a7c0-22c2dc0451f8",
   "metadata": {},
   "outputs": [],
   "source": [
    "#----------reassigning--------------"
   ]
  },
  {
   "cell_type": "code",
   "execution_count": 90,
   "id": "ebd2f851-9ecb-4fd7-9be0-d79ec71ccc0f",
   "metadata": {},
   "outputs": [
    {
     "data": {
      "text/plain": [
       "\" reassigning don't work with string but it will with list \""
      ]
     },
     "execution_count": 90,
     "metadata": {},
     "output_type": "execute_result"
    }
   ],
   "source": [
    "''' reassigning don't work with string but it will with list becouse it is immutable'''"
   ]
  },
  {
   "cell_type": "code",
   "execution_count": 91,
   "id": "1acc166f-ae97-47c5-abc2-84cf359b8ce8",
   "metadata": {},
   "outputs": [
    {
     "ename": "TypeError",
     "evalue": "'str' object does not support item assignment",
     "output_type": "error",
     "traceback": [
      "\u001b[0;31m---------------------------------------------------------------------------\u001b[0m",
      "\u001b[0;31mTypeError\u001b[0m                                 Traceback (most recent call last)",
      "Cell \u001b[0;32mIn[91], line 1\u001b[0m\n\u001b[0;32m----> 1\u001b[0m \u001b[43ms\u001b[49m\u001b[43m[\u001b[49m\u001b[38;5;241;43m1\u001b[39;49m\u001b[43m]\u001b[49m \u001b[38;5;241m=\u001b[39m z\n",
      "\u001b[0;31mTypeError\u001b[0m: 'str' object does not support item assignment"
     ]
    }
   ],
   "source": [
    "s[1] = z"
   ]
  },
  {
   "cell_type": "code",
   "execution_count": 92,
   "id": "c497ccf8-63a9-4ae1-b1f5-7bfe511af01c",
   "metadata": {},
   "outputs": [
    {
     "data": {
      "text/plain": [
       "' i can not change any part of that'"
      ]
     },
     "execution_count": 92,
     "metadata": {},
     "output_type": "execute_result"
    }
   ],
   "source": [
    "' string is immutable'\n",
    "' i can not change any part of that'"
   ]
  },
  {
   "cell_type": "code",
   "execution_count": null,
   "id": "d1870fad-d6e0-47bf-a0ac-d9964ec86921",
   "metadata": {},
   "outputs": [],
   "source": []
  }
 ],
 "metadata": {
  "kernelspec": {
   "display_name": "Python 3 (ipykernel)",
   "language": "python",
   "name": "python3"
  },
  "language_info": {
   "codemirror_mode": {
    "name": "ipython",
    "version": 3
   },
   "file_extension": ".py",
   "mimetype": "text/x-python",
   "name": "python",
   "nbconvert_exporter": "python",
   "pygments_lexer": "ipython3",
   "version": "3.10.8"
  }
 },
 "nbformat": 4,
 "nbformat_minor": 5
}
